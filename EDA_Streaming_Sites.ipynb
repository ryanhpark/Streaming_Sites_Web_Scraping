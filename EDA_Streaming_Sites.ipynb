{
 "cells": [
  {
   "cell_type": "markdown",
   "metadata": {},
   "source": [
    "# Comparison Analysis of Online Streaming Platforms"
   ]
  },
  {
   "cell_type": "markdown",
   "metadata": {},
   "source": [
    "The dataset is gained through scraping the contents from reelgood.com on July, 20, 2020"
   ]
  },
  {
   "cell_type": "markdown",
   "metadata": {},
   "source": [
    "# 1. Preprocessing"
   ]
  },
  {
   "cell_type": "markdown",
   "metadata": {},
   "source": [
    "### 1.1 Read the Dataset and Reorder the Columns"
   ]
  },
  {
   "cell_type": "code",
   "execution_count": 1,
   "metadata": {},
   "outputs": [],
   "source": [
    "import pandas as pd\n",
    "import numpy as np\n",
    "data = pd.read_csv(\"./streamingsites/streamingsites2.csv\")"
   ]
  },
  {
   "cell_type": "code",
   "execution_count": 2,
   "metadata": {},
   "outputs": [],
   "source": [
    "col_order = [\"web_name\",\"movie_or_tv\", \"title\", \"year_start\", \"year_end\",\\\n",
    "             \"seasons\", \"imdb_score\", \"rg_score\", \"rated\", \"genres\"]\n",
    "data = data[col_order]"
   ]
  },
  {
   "cell_type": "code",
   "execution_count": 3,
   "metadata": {},
   "outputs": [
    {
     "name": "stdout",
     "output_type": "stream",
     "text": [
      "(27305, 10)\n"
     ]
    },
    {
     "data": {
      "text/html": [
       "<div>\n",
       "<style scoped>\n",
       "    .dataframe tbody tr th:only-of-type {\n",
       "        vertical-align: middle;\n",
       "    }\n",
       "\n",
       "    .dataframe tbody tr th {\n",
       "        vertical-align: top;\n",
       "    }\n",
       "\n",
       "    .dataframe thead th {\n",
       "        text-align: right;\n",
       "    }\n",
       "</style>\n",
       "<table border=\"1\" class=\"dataframe\">\n",
       "  <thead>\n",
       "    <tr style=\"text-align: right;\">\n",
       "      <th></th>\n",
       "      <th>web_name</th>\n",
       "      <th>movie_or_tv</th>\n",
       "      <th>title</th>\n",
       "      <th>year_start</th>\n",
       "      <th>year_end</th>\n",
       "      <th>seasons</th>\n",
       "      <th>imdb_score</th>\n",
       "      <th>rg_score</th>\n",
       "      <th>rated</th>\n",
       "      <th>genres</th>\n",
       "    </tr>\n",
       "  </thead>\n",
       "  <tbody>\n",
       "    <tr>\n",
       "      <th>0</th>\n",
       "      <td>netflix</td>\n",
       "      <td>show</td>\n",
       "      <td>Trollhunters: Tales of Arcadia</td>\n",
       "      <td>2016</td>\n",
       "      <td>2018.0</td>\n",
       "      <td>3.0</td>\n",
       "      <td>8.4</td>\n",
       "      <td>68.0</td>\n",
       "      <td>7+ (TV-PG)</td>\n",
       "      <td>animation,action-and-adventure,comedy,drama,fa...</td>\n",
       "    </tr>\n",
       "    <tr>\n",
       "      <th>1</th>\n",
       "      <td>netflix</td>\n",
       "      <td>movie</td>\n",
       "      <td>The Other Side of the Wind</td>\n",
       "      <td>2018</td>\n",
       "      <td>NaN</td>\n",
       "      <td>NaN</td>\n",
       "      <td>6.8</td>\n",
       "      <td>68.0</td>\n",
       "      <td>18+ (R)</td>\n",
       "      <td>comedy,independent,drama</td>\n",
       "    </tr>\n",
       "    <tr>\n",
       "      <th>2</th>\n",
       "      <td>netflix</td>\n",
       "      <td>show</td>\n",
       "      <td>Patriot Act with Hasan Minhaj</td>\n",
       "      <td>2018</td>\n",
       "      <td>2020.0</td>\n",
       "      <td>6.0</td>\n",
       "      <td>8.2</td>\n",
       "      <td>69.0</td>\n",
       "      <td>18+ (TV-MA)</td>\n",
       "      <td>comedy</td>\n",
       "    </tr>\n",
       "    <tr>\n",
       "      <th>3</th>\n",
       "      <td>netflix</td>\n",
       "      <td>show</td>\n",
       "      <td>Formula 1: Drive to Survive</td>\n",
       "      <td>2019</td>\n",
       "      <td>2020.0</td>\n",
       "      <td>2.0</td>\n",
       "      <td>8.6</td>\n",
       "      <td>69.0</td>\n",
       "      <td>14+ (TV-14)</td>\n",
       "      <td>documentary,sport</td>\n",
       "    </tr>\n",
       "    <tr>\n",
       "      <th>4</th>\n",
       "      <td>netflix</td>\n",
       "      <td>movie</td>\n",
       "      <td>Tamasha</td>\n",
       "      <td>2015</td>\n",
       "      <td>NaN</td>\n",
       "      <td>NaN</td>\n",
       "      <td>7.3</td>\n",
       "      <td>70.0</td>\n",
       "      <td>7+ (PG)</td>\n",
       "      <td>comedy,drama,romance</td>\n",
       "    </tr>\n",
       "  </tbody>\n",
       "</table>\n",
       "</div>"
      ],
      "text/plain": [
       "  web_name movie_or_tv                           title  year_start  year_end  \\\n",
       "0  netflix        show  Trollhunters: Tales of Arcadia        2016    2018.0   \n",
       "1  netflix       movie      The Other Side of the Wind        2018       NaN   \n",
       "2  netflix        show   Patriot Act with Hasan Minhaj        2018    2020.0   \n",
       "3  netflix        show     Formula 1: Drive to Survive        2019    2020.0   \n",
       "4  netflix       movie                         Tamasha        2015       NaN   \n",
       "\n",
       "   seasons  imdb_score  rg_score        rated  \\\n",
       "0      3.0         8.4      68.0   7+ (TV-PG)   \n",
       "1      NaN         6.8      68.0      18+ (R)   \n",
       "2      6.0         8.2      69.0  18+ (TV-MA)   \n",
       "3      2.0         8.6      69.0  14+ (TV-14)   \n",
       "4      NaN         7.3      70.0      7+ (PG)   \n",
       "\n",
       "                                              genres  \n",
       "0  animation,action-and-adventure,comedy,drama,fa...  \n",
       "1                           comedy,independent,drama  \n",
       "2                                             comedy  \n",
       "3                                  documentary,sport  \n",
       "4                               comedy,drama,romance  "
      ]
     },
     "execution_count": 3,
     "metadata": {},
     "output_type": "execute_result"
    }
   ],
   "source": [
    "print(data.shape)\n",
    "data.head()"
   ]
  },
  {
   "cell_type": "markdown",
   "metadata": {},
   "source": [
    "### 1.2 Changing the data types"
   ]
  },
  {
   "cell_type": "code",
   "execution_count": 4,
   "metadata": {},
   "outputs": [
    {
     "name": "stdout",
     "output_type": "stream",
     "text": [
      "<class 'pandas.core.frame.DataFrame'>\n",
      "RangeIndex: 27305 entries, 0 to 27304\n",
      "Data columns (total 10 columns):\n",
      " #   Column       Non-Null Count  Dtype  \n",
      "---  ------       --------------  -----  \n",
      " 0   web_name     27305 non-null  object \n",
      " 1   movie_or_tv  27305 non-null  object \n",
      " 2   title        27305 non-null  object \n",
      " 3   year_start   27305 non-null  int64  \n",
      " 4   year_end     6147 non-null   float64\n",
      " 5   seasons      6147 non-null   float64\n",
      " 6   imdb_score   25242 non-null  float64\n",
      " 7   rg_score     26708 non-null  float64\n",
      " 8   rated        13156 non-null  object \n",
      " 9   genres       25495 non-null  object \n",
      "dtypes: float64(4), int64(1), object(5)\n",
      "memory usage: 2.1+ MB\n"
     ]
    }
   ],
   "source": [
    "data.info()"
   ]
  },
  {
   "cell_type": "code",
   "execution_count": 5,
   "metadata": {},
   "outputs": [],
   "source": [
    "data.loc[data['year_end'].notnull(), 'year_end'] = data.loc[data['year_end'].notnull(), 'year_end'].apply('int64')\n",
    "data.loc[data['seasons'].notnull(), 'seasons'] = data.loc[data['seasons'].notnull(), 'seasons'].apply('int64')\n",
    "data.loc[data['rg_score'].notnull(), 'rg_score'] = data.loc[data['rg_score'].notnull(), 'rg_score'].apply('int64')"
   ]
  },
  {
   "cell_type": "markdown",
   "metadata": {},
   "source": [
    "### 1.3 Rename the unique genres and change from string to list"
   ]
  },
  {
   "cell_type": "code",
   "execution_count": 6,
   "metadata": {},
   "outputs": [
    {
     "data": {
      "text/plain": [
       "['action & adventure',\n",
       " 'action-and-adventure',\n",
       " 'animation',\n",
       " 'anime',\n",
       " 'biography',\n",
       " 'children',\n",
       " 'comedy',\n",
       " 'crime',\n",
       " 'cult',\n",
       " 'documentary',\n",
       " 'drama',\n",
       " 'family',\n",
       " 'fantasy',\n",
       " 'food',\n",
       " 'game show',\n",
       " 'game-show',\n",
       " 'history',\n",
       " 'home & garden',\n",
       " 'home-and-garden',\n",
       " 'horror',\n",
       " 'independent',\n",
       " 'lgbtq',\n",
       " 'musical',\n",
       " 'mystery',\n",
       " 'nan',\n",
       " 'reality',\n",
       " 'romance',\n",
       " 'science-fiction',\n",
       " 'sport',\n",
       " 'stand-up & talk',\n",
       " 'stand-up-and-talk',\n",
       " 'thriller',\n",
       " 'travel']"
      ]
     },
     "execution_count": 6,
     "metadata": {},
     "output_type": "execute_result"
    }
   ],
   "source": [
    "data['genres'] = data['genres'].astype(str)\n",
    "genres = list(map(lambda x: x.split(','), data['genres'].tolist()))\n",
    "unique_genres = list(set([genre for row in genres for genre in row]))\n",
    "sorted(unique_genres)"
   ]
  },
  {
   "cell_type": "code",
   "execution_count": 7,
   "metadata": {},
   "outputs": [],
   "source": [
    "data['genres'] = data['genres'].str.replace('action-and-adventure','action & adventure')\n",
    "data['genres'] = data['genres'].str.replace('game-show','game show')\n",
    "data['genres'] = data['genres'].str.replace('home-and-garden','home & garden')\n",
    "data['genres'] = data['genres'].str.replace('stand-up-and-talk','stand-up & talk')\n",
    "data['genres'] = data['genres'].str.replace('nan','NaN')"
   ]
  },
  {
   "cell_type": "code",
   "execution_count": 8,
   "metadata": {},
   "outputs": [],
   "source": [
    "# Changing the column of genres from string to lists\n",
    "data['genres'] = data['genres'].apply(lambda x: x.split(','))"
   ]
  },
  {
   "cell_type": "markdown",
   "metadata": {},
   "source": [
    "### 1.4 Capitalize the texts"
   ]
  },
  {
   "cell_type": "code",
   "execution_count": 9,
   "metadata": {},
   "outputs": [],
   "source": [
    "data['web_name'] = list(map(lambda x: x.capitalize(),data['web_name']))\n",
    "data['movie_or_tv'] = list(map(lambda x: x.capitalize(),data['movie_or_tv']))\n",
    "data['genres'] = list(map(lambda rows: list(map(lambda x: x.capitalize(), rows)), data['genres']))"
   ]
  },
  {
   "cell_type": "markdown",
   "metadata": {},
   "source": [
    "### 1.5 Rename web name"
   ]
  },
  {
   "cell_type": "code",
   "execution_count": 10,
   "metadata": {},
   "outputs": [],
   "source": [
    "data['web_name'] = data['web_name'].str.replace('Hbo_max', \"HBO Max\")\n",
    "data['web_name'] = data['web_name'].str.replace('Disney_plus', \"Disney Plus\")\n",
    "data['web_name'] = data['web_name'].str.replace('Amazon', \"Amazon Prime\")"
   ]
  },
  {
   "cell_type": "code",
   "execution_count": 11,
   "metadata": {},
   "outputs": [],
   "source": [
    "# data.to_csv(\"preprocesseddata.csv\")"
   ]
  },
  {
   "cell_type": "markdown",
   "metadata": {},
   "source": [
    "# 2. EDA"
   ]
  },
  {
   "cell_type": "code",
   "execution_count": 12,
   "metadata": {},
   "outputs": [],
   "source": [
    "from matplotlib import pyplot as plt\n",
    "import seaborn as sns\n",
    "%matplotlib inline\n",
    "plt.rcParams['figure.figsize'] = (12, 6)\n",
    "sns.set(style = \"whitegrid\")"
   ]
  },
  {
   "cell_type": "code",
   "execution_count": 13,
   "metadata": {},
   "outputs": [
    {
     "name": "stdout",
     "output_type": "stream",
     "text": [
      "(27305, 10)\n"
     ]
    },
    {
     "data": {
      "text/html": [
       "<div>\n",
       "<style scoped>\n",
       "    .dataframe tbody tr th:only-of-type {\n",
       "        vertical-align: middle;\n",
       "    }\n",
       "\n",
       "    .dataframe tbody tr th {\n",
       "        vertical-align: top;\n",
       "    }\n",
       "\n",
       "    .dataframe thead th {\n",
       "        text-align: right;\n",
       "    }\n",
       "</style>\n",
       "<table border=\"1\" class=\"dataframe\">\n",
       "  <thead>\n",
       "    <tr style=\"text-align: right;\">\n",
       "      <th></th>\n",
       "      <th>web_name</th>\n",
       "      <th>movie_or_tv</th>\n",
       "      <th>title</th>\n",
       "      <th>year_start</th>\n",
       "      <th>year_end</th>\n",
       "      <th>seasons</th>\n",
       "      <th>imdb_score</th>\n",
       "      <th>rg_score</th>\n",
       "      <th>rated</th>\n",
       "      <th>genres</th>\n",
       "    </tr>\n",
       "  </thead>\n",
       "  <tbody>\n",
       "    <tr>\n",
       "      <th>0</th>\n",
       "      <td>Netflix</td>\n",
       "      <td>Show</td>\n",
       "      <td>Trollhunters: Tales of Arcadia</td>\n",
       "      <td>2016</td>\n",
       "      <td>2018.0</td>\n",
       "      <td>3.0</td>\n",
       "      <td>8.4</td>\n",
       "      <td>68.0</td>\n",
       "      <td>7+ (TV-PG)</td>\n",
       "      <td>['Animation', 'Action &amp; adventure', 'Comedy', ...</td>\n",
       "    </tr>\n",
       "    <tr>\n",
       "      <th>1</th>\n",
       "      <td>Netflix</td>\n",
       "      <td>Movie</td>\n",
       "      <td>The Other Side of the Wind</td>\n",
       "      <td>2018</td>\n",
       "      <td>NaN</td>\n",
       "      <td>NaN</td>\n",
       "      <td>6.8</td>\n",
       "      <td>68.0</td>\n",
       "      <td>18+ (R)</td>\n",
       "      <td>['Comedy', 'Independent', 'Drama']</td>\n",
       "    </tr>\n",
       "    <tr>\n",
       "      <th>2</th>\n",
       "      <td>Netflix</td>\n",
       "      <td>Show</td>\n",
       "      <td>Patriot Act with Hasan Minhaj</td>\n",
       "      <td>2018</td>\n",
       "      <td>2020.0</td>\n",
       "      <td>6.0</td>\n",
       "      <td>8.2</td>\n",
       "      <td>69.0</td>\n",
       "      <td>18+ (TV-MA)</td>\n",
       "      <td>['Comedy']</td>\n",
       "    </tr>\n",
       "    <tr>\n",
       "      <th>3</th>\n",
       "      <td>Netflix</td>\n",
       "      <td>Show</td>\n",
       "      <td>Formula 1: Drive to Survive</td>\n",
       "      <td>2019</td>\n",
       "      <td>2020.0</td>\n",
       "      <td>2.0</td>\n",
       "      <td>8.6</td>\n",
       "      <td>69.0</td>\n",
       "      <td>14+ (TV-14)</td>\n",
       "      <td>['Documentary', 'Sport']</td>\n",
       "    </tr>\n",
       "    <tr>\n",
       "      <th>4</th>\n",
       "      <td>Netflix</td>\n",
       "      <td>Movie</td>\n",
       "      <td>Tamasha</td>\n",
       "      <td>2015</td>\n",
       "      <td>NaN</td>\n",
       "      <td>NaN</td>\n",
       "      <td>7.3</td>\n",
       "      <td>70.0</td>\n",
       "      <td>7+ (PG)</td>\n",
       "      <td>['Comedy', 'Drama', 'Romance']</td>\n",
       "    </tr>\n",
       "  </tbody>\n",
       "</table>\n",
       "</div>"
      ],
      "text/plain": [
       "  web_name movie_or_tv                           title  year_start  year_end  \\\n",
       "0  Netflix        Show  Trollhunters: Tales of Arcadia        2016    2018.0   \n",
       "1  Netflix       Movie      The Other Side of the Wind        2018       NaN   \n",
       "2  Netflix        Show   Patriot Act with Hasan Minhaj        2018    2020.0   \n",
       "3  Netflix        Show     Formula 1: Drive to Survive        2019    2020.0   \n",
       "4  Netflix       Movie                         Tamasha        2015       NaN   \n",
       "\n",
       "   seasons  imdb_score  rg_score        rated  \\\n",
       "0      3.0         8.4      68.0   7+ (TV-PG)   \n",
       "1      NaN         6.8      68.0      18+ (R)   \n",
       "2      6.0         8.2      69.0  18+ (TV-MA)   \n",
       "3      2.0         8.6      69.0  14+ (TV-14)   \n",
       "4      NaN         7.3      70.0      7+ (PG)   \n",
       "\n",
       "                                              genres  \n",
       "0  ['Animation', 'Action & adventure', 'Comedy', ...  \n",
       "1                 ['Comedy', 'Independent', 'Drama']  \n",
       "2                                         ['Comedy']  \n",
       "3                           ['Documentary', 'Sport']  \n",
       "4                     ['Comedy', 'Drama', 'Romance']  "
      ]
     },
     "execution_count": 13,
     "metadata": {},
     "output_type": "execute_result"
    }
   ],
   "source": [
    "df = pd.read_csv(\"preprocesseddata.csv\", index_col = 0)\n",
    "print(df.shape)\n",
    "df.head()"
   ]
  },
  {
   "cell_type": "markdown",
   "metadata": {},
   "source": [
    "### Price for each platform"
   ]
  },
  {
   "cell_type": "code",
   "execution_count": 14,
   "metadata": {},
   "outputs": [
    {
     "data": {
      "text/html": [
       "<div>\n",
       "<style scoped>\n",
       "    .dataframe tbody tr th:only-of-type {\n",
       "        vertical-align: middle;\n",
       "    }\n",
       "\n",
       "    .dataframe tbody tr th {\n",
       "        vertical-align: top;\n",
       "    }\n",
       "\n",
       "    .dataframe thead th {\n",
       "        text-align: right;\n",
       "    }\n",
       "</style>\n",
       "<table border=\"1\" class=\"dataframe\">\n",
       "  <thead>\n",
       "    <tr style=\"text-align: right;\">\n",
       "      <th></th>\n",
       "      <th>web_name</th>\n",
       "      <th>cost</th>\n",
       "    </tr>\n",
       "  </thead>\n",
       "  <tbody>\n",
       "    <tr>\n",
       "      <th>0</th>\n",
       "      <td>Amazon Prime</td>\n",
       "      <td>8.99</td>\n",
       "    </tr>\n",
       "    <tr>\n",
       "      <th>1</th>\n",
       "      <td>Disney Plus</td>\n",
       "      <td>6.99</td>\n",
       "    </tr>\n",
       "    <tr>\n",
       "      <th>2</th>\n",
       "      <td>HBO Max</td>\n",
       "      <td>14.99</td>\n",
       "    </tr>\n",
       "    <tr>\n",
       "      <th>3</th>\n",
       "      <td>Hulu</td>\n",
       "      <td>11.99</td>\n",
       "    </tr>\n",
       "    <tr>\n",
       "      <th>4</th>\n",
       "      <td>Netflix</td>\n",
       "      <td>12.99</td>\n",
       "    </tr>\n",
       "  </tbody>\n",
       "</table>\n",
       "</div>"
      ],
      "text/plain": [
       "       web_name   cost\n",
       "0  Amazon Prime   8.99\n",
       "1   Disney Plus   6.99\n",
       "2       HBO Max  14.99\n",
       "3          Hulu  11.99\n",
       "4       Netflix  12.99"
      ]
     },
     "execution_count": 14,
     "metadata": {},
     "output_type": "execute_result"
    }
   ],
   "source": [
    "#Price for each platform as of July 20, 2020\n",
    "membership = pd.DataFrame([[\"Amazon Prime\", 8.99],[\"Disney Plus\", 6.99],\\\n",
    "                           [\"HBO Max\", 14.99],[\"Hulu\", 11.99],[\"Netflix\", 12.99]], columns = [\"web_name\", \"cost\"])\n",
    "membership"
   ]
  },
  {
   "cell_type": "code",
   "execution_count": 15,
   "metadata": {},
   "outputs": [
    {
     "data": {
      "image/png": "[encoded data removed]",
      "text/plain": [
       "<Figure size 864x432 with 1 Axes>"
      ]
     },
     "metadata": {},
     "output_type": "display_data"
    }
   ],
   "source": [
    "ax = sns.barplot(data = membership, x= \"web_name\", y = \"cost\")\n",
    "plt.title(\"Membership Cost for Each Streaming Services\")\n",
    "plt.xlabel(\"Streaming Services\")\n",
    "plt.ylabel(\"Membership Cost ($)\")\n",
    "for p in ax.patches:\n",
    "    ax.annotate(\"$%.2f\" % p.get_height(), xy = (p.get_x() + p.get_width() / 2, p.get_height()),\n",
    "                 ha='center', va='center', fontsize=12, xytext=(0, 5), textcoords='offset points')"
   ]
  },
  {
   "cell_type": "markdown",
   "metadata": {},
   "source": [
    "### Q1. How many contents are in each streaming service?"
   ]
  },
  {
   "cell_type": "code",
   "execution_count": 16,
   "metadata": {},
   "outputs": [
    {
     "data": {
      "text/html": [
       "<div>\n",
       "<style scoped>\n",
       "    .dataframe tbody tr th:only-of-type {\n",
       "        vertical-align: middle;\n",
       "    }\n",
       "\n",
       "    .dataframe tbody tr th {\n",
       "        vertical-align: top;\n",
       "    }\n",
       "\n",
       "    .dataframe thead th {\n",
       "        text-align: right;\n",
       "    }\n",
       "</style>\n",
       "<table border=\"1\" class=\"dataframe\">\n",
       "  <thead>\n",
       "    <tr style=\"text-align: right;\">\n",
       "      <th>movie_or_tv</th>\n",
       "      <th>Movie</th>\n",
       "      <th>Show</th>\n",
       "      <th>p_movie</th>\n",
       "      <th>p_tvshow</th>\n",
       "    </tr>\n",
       "    <tr>\n",
       "      <th>web_name</th>\n",
       "      <th></th>\n",
       "      <th></th>\n",
       "      <th></th>\n",
       "      <th></th>\n",
       "    </tr>\n",
       "  </thead>\n",
       "  <tbody>\n",
       "    <tr>\n",
       "      <th>Amazon Prime</th>\n",
       "      <td>14067</td>\n",
       "      <td>2136</td>\n",
       "      <td>87.0</td>\n",
       "      <td>13.0</td>\n",
       "    </tr>\n",
       "    <tr>\n",
       "      <th>Disney Plus</th>\n",
       "      <td>637</td>\n",
       "      <td>203</td>\n",
       "      <td>76.0</td>\n",
       "      <td>24.0</td>\n",
       "    </tr>\n",
       "    <tr>\n",
       "      <th>HBO Max</th>\n",
       "      <td>1747</td>\n",
       "      <td>368</td>\n",
       "      <td>83.0</td>\n",
       "      <td>17.0</td>\n",
       "    </tr>\n",
       "    <tr>\n",
       "      <th>Hulu</th>\n",
       "      <td>945</td>\n",
       "      <td>1713</td>\n",
       "      <td>36.0</td>\n",
       "      <td>64.0</td>\n",
       "    </tr>\n",
       "    <tr>\n",
       "      <th>Netflix</th>\n",
       "      <td>3762</td>\n",
       "      <td>1727</td>\n",
       "      <td>69.0</td>\n",
       "      <td>31.0</td>\n",
       "    </tr>\n",
       "  </tbody>\n",
       "</table>\n",
       "</div>"
      ],
      "text/plain": [
       "movie_or_tv   Movie  Show  p_movie  p_tvshow\n",
       "web_name                                    \n",
       "Amazon Prime  14067  2136     87.0      13.0\n",
       "Disney Plus     637   203     76.0      24.0\n",
       "HBO Max        1747   368     83.0      17.0\n",
       "Hulu            945  1713     36.0      64.0\n",
       "Netflix        3762  1727     69.0      31.0"
      ]
     },
     "execution_count": 16,
     "metadata": {},
     "output_type": "execute_result"
    }
   ],
   "source": [
    "df_count = df.groupby([\"web_name\",\"movie_or_tv\"]).size().unstack()\n",
    "df_count['p_movie'] = round(df_count['Movie']/(df_count['Movie']+df_count['Show'])*100)\n",
    "df_count['p_tvshow'] = round(df_count['Show']/(df_count['Movie']+df_count['Show'])*100)\n",
    "df_count"
   ]
  },
  {
   "cell_type": "code",
   "execution_count": 17,
   "metadata": {},
   "outputs": [
    {
     "data": {
      "text/plain": [
       "<matplotlib.legend.Legend at 0x7fc542ad02d0>"
      ]
     },
     "execution_count": 17,
     "metadata": {},
     "output_type": "execute_result"
    },
    {
     "data": {
      "image/png": "[encoded data removed]",
      "text/plain": [
       "<Figure size 864x432 with 1 Axes>"
      ]
     },
     "metadata": {},
     "output_type": "display_data"
    }
   ],
   "source": [
    "df_count[[\"Movie\",\"Show\"]].plot(kind='bar',stacked=True, rot = 0, fontsize = 15)\n",
    "plt.title(\"Count of Movies and TV Shows by Streaming services\")\n",
    "plt.xlabel(\"Streaming Service\")\n",
    "plt.ylabel(\"Count\")\n",
    "plt.legend(fontsize = 15)"
   ]
  },
  {
   "cell_type": "code",
   "execution_count": 18,
   "metadata": {},
   "outputs": [
    {
     "data": {
      "text/plain": [
       "<matplotlib.legend.Legend at 0x7fc4d04bb690>"
      ]
     },
     "execution_count": 18,
     "metadata": {},
     "output_type": "execute_result"
    },
    {
     "data": {
      "image/png": "[encoded data removed]",
      "text/plain": [
       "<Figure size 864x432 with 1 Axes>"
      ]
     },
     "metadata": {},
     "output_type": "display_data"
    }
   ],
   "source": [
    "ax = df_count[['p_movie','p_tvshow']].plot(kind='bar',stacked=True, rot = 0, fontsize = 15)\n",
    "plt.title(\"Percentage of Movies and TV Shows by Streaming Service\")\n",
    "plt.xlabel(\"Streaming Service\")\n",
    "plt.ylabel(\"Percentage\")\n",
    "plt.legend([\"Movie (%)\",\"TV Show (%)\"], fontsize = 12)"
   ]
  },
  {
   "cell_type": "markdown",
   "metadata": {},
   "source": [
    "### Q2. How does the distribution of review scores look for each service?"
   ]
  },
  {
   "cell_type": "markdown",
   "metadata": {},
   "source": [
    "#### With IMDB Score"
   ]
  },
  {
   "cell_type": "code",
   "execution_count": 19,
   "metadata": {},
   "outputs": [
    {
     "data": {
      "text/html": [
       "<div>\n",
       "<style scoped>\n",
       "    .dataframe tbody tr th:only-of-type {\n",
       "        vertical-align: middle;\n",
       "    }\n",
       "\n",
       "    .dataframe tbody tr th {\n",
       "        vertical-align: top;\n",
       "    }\n",
       "\n",
       "    .dataframe thead tr th {\n",
       "        text-align: left;\n",
       "    }\n",
       "\n",
       "    .dataframe thead tr:last-of-type th {\n",
       "        text-align: right;\n",
       "    }\n",
       "</style>\n",
       "<table border=\"1\" class=\"dataframe\">\n",
       "  <thead>\n",
       "    <tr>\n",
       "      <th></th>\n",
       "      <th></th>\n",
       "      <th colspan=\"7\" halign=\"left\">imdb_score</th>\n",
       "    </tr>\n",
       "    <tr>\n",
       "      <th></th>\n",
       "      <th></th>\n",
       "      <th>mean</th>\n",
       "      <th>std</th>\n",
       "      <th>min</th>\n",
       "      <th>25%</th>\n",
       "      <th>50%</th>\n",
       "      <th>75%</th>\n",
       "      <th>max</th>\n",
       "    </tr>\n",
       "    <tr>\n",
       "      <th>web_name</th>\n",
       "      <th>movie_or_tv</th>\n",
       "      <th></th>\n",
       "      <th></th>\n",
       "      <th></th>\n",
       "      <th></th>\n",
       "      <th></th>\n",
       "      <th></th>\n",
       "      <th></th>\n",
       "    </tr>\n",
       "  </thead>\n",
       "  <tbody>\n",
       "    <tr>\n",
       "      <th rowspan=\"2\" valign=\"top\">Amazon Prime</th>\n",
       "      <th>Movie</th>\n",
       "      <td>5.77</td>\n",
       "      <td>1.40</td>\n",
       "      <td>1.0</td>\n",
       "      <td>4.9</td>\n",
       "      <td>5.9</td>\n",
       "      <td>6.8</td>\n",
       "      <td>9.4</td>\n",
       "    </tr>\n",
       "    <tr>\n",
       "      <th>Show</th>\n",
       "      <td>7.14</td>\n",
       "      <td>1.14</td>\n",
       "      <td>1.8</td>\n",
       "      <td>6.6</td>\n",
       "      <td>7.3</td>\n",
       "      <td>8.0</td>\n",
       "      <td>9.5</td>\n",
       "    </tr>\n",
       "    <tr>\n",
       "      <th rowspan=\"2\" valign=\"top\">Disney Plus</th>\n",
       "      <th>Movie</th>\n",
       "      <td>6.49</td>\n",
       "      <td>1.02</td>\n",
       "      <td>1.6</td>\n",
       "      <td>5.9</td>\n",
       "      <td>6.5</td>\n",
       "      <td>7.2</td>\n",
       "      <td>9.0</td>\n",
       "    </tr>\n",
       "    <tr>\n",
       "      <th>Show</th>\n",
       "      <td>6.95</td>\n",
       "      <td>1.14</td>\n",
       "      <td>3.3</td>\n",
       "      <td>6.2</td>\n",
       "      <td>7.0</td>\n",
       "      <td>7.9</td>\n",
       "      <td>9.7</td>\n",
       "    </tr>\n",
       "    <tr>\n",
       "      <th rowspan=\"2\" valign=\"top\">HBO Max</th>\n",
       "      <th>Movie</th>\n",
       "      <td>6.81</td>\n",
       "      <td>1.03</td>\n",
       "      <td>1.7</td>\n",
       "      <td>6.2</td>\n",
       "      <td>7.0</td>\n",
       "      <td>7.6</td>\n",
       "      <td>9.3</td>\n",
       "    </tr>\n",
       "    <tr>\n",
       "      <th>Show</th>\n",
       "      <td>7.49</td>\n",
       "      <td>1.08</td>\n",
       "      <td>2.5</td>\n",
       "      <td>7.1</td>\n",
       "      <td>7.7</td>\n",
       "      <td>8.2</td>\n",
       "      <td>9.4</td>\n",
       "    </tr>\n",
       "    <tr>\n",
       "      <th rowspan=\"2\" valign=\"top\">Hulu</th>\n",
       "      <th>Movie</th>\n",
       "      <td>6.16</td>\n",
       "      <td>1.09</td>\n",
       "      <td>1.6</td>\n",
       "      <td>5.5</td>\n",
       "      <td>6.2</td>\n",
       "      <td>7.0</td>\n",
       "      <td>9.3</td>\n",
       "    </tr>\n",
       "    <tr>\n",
       "      <th>Show</th>\n",
       "      <td>7.06</td>\n",
       "      <td>1.19</td>\n",
       "      <td>1.7</td>\n",
       "      <td>6.6</td>\n",
       "      <td>7.3</td>\n",
       "      <td>7.9</td>\n",
       "      <td>9.4</td>\n",
       "    </tr>\n",
       "    <tr>\n",
       "      <th rowspan=\"2\" valign=\"top\">Netflix</th>\n",
       "      <th>Movie</th>\n",
       "      <td>6.25</td>\n",
       "      <td>1.15</td>\n",
       "      <td>1.6</td>\n",
       "      <td>5.5</td>\n",
       "      <td>6.3</td>\n",
       "      <td>7.1</td>\n",
       "      <td>9.3</td>\n",
       "    </tr>\n",
       "    <tr>\n",
       "      <th>Show</th>\n",
       "      <td>7.16</td>\n",
       "      <td>1.10</td>\n",
       "      <td>1.0</td>\n",
       "      <td>6.6</td>\n",
       "      <td>7.3</td>\n",
       "      <td>7.9</td>\n",
       "      <td>9.5</td>\n",
       "    </tr>\n",
       "  </tbody>\n",
       "</table>\n",
       "</div>"
      ],
      "text/plain": [
       "                         imdb_score                               \n",
       "                               mean   std  min  25%  50%  75%  max\n",
       "web_name     movie_or_tv                                          \n",
       "Amazon Prime Movie             5.77  1.40  1.0  4.9  5.9  6.8  9.4\n",
       "             Show              7.14  1.14  1.8  6.6  7.3  8.0  9.5\n",
       "Disney Plus  Movie             6.49  1.02  1.6  5.9  6.5  7.2  9.0\n",
       "             Show              6.95  1.14  3.3  6.2  7.0  7.9  9.7\n",
       "HBO Max      Movie             6.81  1.03  1.7  6.2  7.0  7.6  9.3\n",
       "             Show              7.49  1.08  2.5  7.1  7.7  8.2  9.4\n",
       "Hulu         Movie             6.16  1.09  1.6  5.5  6.2  7.0  9.3\n",
       "             Show              7.06  1.19  1.7  6.6  7.3  7.9  9.4\n",
       "Netflix      Movie             6.25  1.15  1.6  5.5  6.3  7.1  9.3\n",
       "             Show              7.16  1.10  1.0  6.6  7.3  7.9  9.5"
      ]
     },
     "execution_count": 19,
     "metadata": {},
     "output_type": "execute_result"
    }
   ],
   "source": [
    "df.groupby([\"web_name\",\"movie_or_tv\"])[[\"imdb_score\"]].describe().round(2).iloc[:,1:]"
   ]
  },
  {
   "cell_type": "code",
   "execution_count": 20,
   "metadata": {},
   "outputs": [
    {
     "data": {
      "text/plain": [
       "<matplotlib.legend.Legend at 0x7fc520bf5d90>"
      ]
     },
     "execution_count": 20,
     "metadata": {},
     "output_type": "execute_result"
    },
    {
     "data": {
      "image/png": "[encoded data removed]",
      "text/plain": [
       "<Figure size 864x432 with 1 Axes>"
      ]
     },
     "metadata": {},
     "output_type": "display_data"
    }
   ],
   "source": [
    "sns.boxplot(data = df, x = \"web_name\", y = \"imdb_score\", hue = \"movie_or_tv\",\\\n",
    "            hue_order = [\"Movie\",\"Show\"], palette=sns.color_palette(\"muted\"), order=np.sort(df[\"web_name\"].unique()))\n",
    "plt.title(\"Box Plot of IMDB Scores by Streaming Services\")\n",
    "plt.xlabel(\"Streaming Service\")\n",
    "plt.ylabel(\"IMDB Score\")\n",
    "plt.legend(fontsize = 12, bbox_to_anchor=(1,0.5))"
   ]
  },
  {
   "cell_type": "markdown",
   "metadata": {},
   "source": [
    "#### With Reelgood Score"
   ]
  },
  {
   "cell_type": "code",
   "execution_count": 21,
   "metadata": {},
   "outputs": [
    {
     "data": {
      "text/html": [
       "<div>\n",
       "<style scoped>\n",
       "    .dataframe tbody tr th:only-of-type {\n",
       "        vertical-align: middle;\n",
       "    }\n",
       "\n",
       "    .dataframe tbody tr th {\n",
       "        vertical-align: top;\n",
       "    }\n",
       "\n",
       "    .dataframe thead tr th {\n",
       "        text-align: left;\n",
       "    }\n",
       "\n",
       "    .dataframe thead tr:last-of-type th {\n",
       "        text-align: right;\n",
       "    }\n",
       "</style>\n",
       "<table border=\"1\" class=\"dataframe\">\n",
       "  <thead>\n",
       "    <tr>\n",
       "      <th></th>\n",
       "      <th></th>\n",
       "      <th colspan=\"7\" halign=\"left\">rg_score</th>\n",
       "    </tr>\n",
       "    <tr>\n",
       "      <th></th>\n",
       "      <th></th>\n",
       "      <th>mean</th>\n",
       "      <th>std</th>\n",
       "      <th>min</th>\n",
       "      <th>25%</th>\n",
       "      <th>50%</th>\n",
       "      <th>75%</th>\n",
       "      <th>max</th>\n",
       "    </tr>\n",
       "    <tr>\n",
       "      <th>web_name</th>\n",
       "      <th>movie_or_tv</th>\n",
       "      <th></th>\n",
       "      <th></th>\n",
       "      <th></th>\n",
       "      <th></th>\n",
       "      <th></th>\n",
       "      <th></th>\n",
       "      <th></th>\n",
       "    </tr>\n",
       "  </thead>\n",
       "  <tbody>\n",
       "    <tr>\n",
       "      <th rowspan=\"2\" valign=\"top\">Amazon Prime</th>\n",
       "      <th>Movie</th>\n",
       "      <td>41.71</td>\n",
       "      <td>13.92</td>\n",
       "      <td>10.0</td>\n",
       "      <td>33.0</td>\n",
       "      <td>38.0</td>\n",
       "      <td>49.0</td>\n",
       "      <td>97.0</td>\n",
       "    </tr>\n",
       "    <tr>\n",
       "      <th>Show</th>\n",
       "      <td>39.77</td>\n",
       "      <td>20.08</td>\n",
       "      <td>10.0</td>\n",
       "      <td>22.0</td>\n",
       "      <td>41.0</td>\n",
       "      <td>53.0</td>\n",
       "      <td>92.0</td>\n",
       "    </tr>\n",
       "    <tr>\n",
       "      <th rowspan=\"2\" valign=\"top\">Disney Plus</th>\n",
       "      <th>Movie</th>\n",
       "      <td>61.43</td>\n",
       "      <td>16.60</td>\n",
       "      <td>15.0</td>\n",
       "      <td>48.0</td>\n",
       "      <td>60.0</td>\n",
       "      <td>75.0</td>\n",
       "      <td>96.0</td>\n",
       "    </tr>\n",
       "    <tr>\n",
       "      <th>Show</th>\n",
       "      <td>53.74</td>\n",
       "      <td>13.46</td>\n",
       "      <td>10.0</td>\n",
       "      <td>46.0</td>\n",
       "      <td>54.0</td>\n",
       "      <td>62.0</td>\n",
       "      <td>91.0</td>\n",
       "    </tr>\n",
       "    <tr>\n",
       "      <th rowspan=\"2\" valign=\"top\">HBO Max</th>\n",
       "      <th>Movie</th>\n",
       "      <td>61.92</td>\n",
       "      <td>17.74</td>\n",
       "      <td>10.0</td>\n",
       "      <td>49.0</td>\n",
       "      <td>65.0</td>\n",
       "      <td>76.0</td>\n",
       "      <td>97.0</td>\n",
       "    </tr>\n",
       "    <tr>\n",
       "      <th>Show</th>\n",
       "      <td>60.42</td>\n",
       "      <td>17.28</td>\n",
       "      <td>10.0</td>\n",
       "      <td>50.0</td>\n",
       "      <td>63.0</td>\n",
       "      <td>73.0</td>\n",
       "      <td>99.0</td>\n",
       "    </tr>\n",
       "    <tr>\n",
       "      <th rowspan=\"2\" valign=\"top\">Hulu</th>\n",
       "      <th>Movie</th>\n",
       "      <td>59.48</td>\n",
       "      <td>14.75</td>\n",
       "      <td>11.0</td>\n",
       "      <td>48.0</td>\n",
       "      <td>60.0</td>\n",
       "      <td>71.0</td>\n",
       "      <td>100.0</td>\n",
       "    </tr>\n",
       "    <tr>\n",
       "      <th>Show</th>\n",
       "      <td>54.18</td>\n",
       "      <td>18.11</td>\n",
       "      <td>10.0</td>\n",
       "      <td>45.0</td>\n",
       "      <td>56.0</td>\n",
       "      <td>67.0</td>\n",
       "      <td>97.0</td>\n",
       "    </tr>\n",
       "    <tr>\n",
       "      <th rowspan=\"2\" valign=\"top\">Netflix</th>\n",
       "      <th>Movie</th>\n",
       "      <td>52.88</td>\n",
       "      <td>15.09</td>\n",
       "      <td>10.0</td>\n",
       "      <td>42.0</td>\n",
       "      <td>51.0</td>\n",
       "      <td>63.0</td>\n",
       "      <td>98.0</td>\n",
       "    </tr>\n",
       "    <tr>\n",
       "      <th>Show</th>\n",
       "      <td>55.71</td>\n",
       "      <td>16.18</td>\n",
       "      <td>10.0</td>\n",
       "      <td>45.0</td>\n",
       "      <td>55.0</td>\n",
       "      <td>67.0</td>\n",
       "      <td>100.0</td>\n",
       "    </tr>\n",
       "  </tbody>\n",
       "</table>\n",
       "</div>"
      ],
      "text/plain": [
       "                         rg_score                                      \n",
       "                             mean    std   min   25%   50%   75%    max\n",
       "web_name     movie_or_tv                                               \n",
       "Amazon Prime Movie          41.71  13.92  10.0  33.0  38.0  49.0   97.0\n",
       "             Show           39.77  20.08  10.0  22.0  41.0  53.0   92.0\n",
       "Disney Plus  Movie          61.43  16.60  15.0  48.0  60.0  75.0   96.0\n",
       "             Show           53.74  13.46  10.0  46.0  54.0  62.0   91.0\n",
       "HBO Max      Movie          61.92  17.74  10.0  49.0  65.0  76.0   97.0\n",
       "             Show           60.42  17.28  10.0  50.0  63.0  73.0   99.0\n",
       "Hulu         Movie          59.48  14.75  11.0  48.0  60.0  71.0  100.0\n",
       "             Show           54.18  18.11  10.0  45.0  56.0  67.0   97.0\n",
       "Netflix      Movie          52.88  15.09  10.0  42.0  51.0  63.0   98.0\n",
       "             Show           55.71  16.18  10.0  45.0  55.0  67.0  100.0"
      ]
     },
     "execution_count": 21,
     "metadata": {},
     "output_type": "execute_result"
    }
   ],
   "source": [
    "df.groupby([\"web_name\",\"movie_or_tv\"])[[\"rg_score\"]].describe().round(2).iloc[:,1:]"
   ]
  },
  {
   "cell_type": "code",
   "execution_count": 22,
   "metadata": {},
   "outputs": [
    {
     "data": {
      "text/plain": [
       "<matplotlib.legend.Legend at 0x7fc4d0547c50>"
      ]
     },
     "execution_count": 22,
     "metadata": {},
     "output_type": "execute_result"
    },
    {
     "data": {
      "image/png": "[encoded data removed]",
      "text/plain": [
       "<Figure size 864x432 with 1 Axes>"
      ]
     },
     "metadata": {},
     "output_type": "display_data"
    }
   ],
   "source": [
    "sns.boxplot(data = df, x = \"web_name\", y = \"rg_score\", hue = \"movie_or_tv\",\\\n",
    "            hue_order = [\"Movie\",\"Show\"], palette=\"Set3\", order=np.sort(df[\"web_name\"].unique()))\n",
    "plt.title(\"Box Plot of Reelgood Scores by Streaming Services\")\n",
    "plt.xlabel(\"Streaming Service\")\n",
    "plt.ylabel(\"Reelgood Score\")\n",
    "plt.legend(fontsize= 12, bbox_to_anchor=(1,0.5))"
   ]
  },
  {
   "cell_type": "markdown",
   "metadata": {},
   "source": [
    "### Q3. What are the proportions for quality and high-quality movies and TV shows?"
   ]
  },
  {
   "cell_type": "code",
   "execution_count": 23,
   "metadata": {},
   "outputs": [
    {
     "data": {
      "text/html": [
       "<div>\n",
       "<style scoped>\n",
       "    .dataframe tbody tr th:only-of-type {\n",
       "        vertical-align: middle;\n",
       "    }\n",
       "\n",
       "    .dataframe tbody tr th {\n",
       "        vertical-align: top;\n",
       "    }\n",
       "\n",
       "    .dataframe thead th {\n",
       "        text-align: right;\n",
       "    }\n",
       "</style>\n",
       "<table border=\"1\" class=\"dataframe\">\n",
       "  <thead>\n",
       "    <tr style=\"text-align: right;\">\n",
       "      <th></th>\n",
       "      <th>count</th>\n",
       "      <th>mean</th>\n",
       "      <th>std</th>\n",
       "      <th>min</th>\n",
       "      <th>25%</th>\n",
       "      <th>50%</th>\n",
       "      <th>75%</th>\n",
       "      <th>max</th>\n",
       "    </tr>\n",
       "    <tr>\n",
       "      <th>movie_or_tv</th>\n",
       "      <th></th>\n",
       "      <th></th>\n",
       "      <th></th>\n",
       "      <th></th>\n",
       "      <th></th>\n",
       "      <th></th>\n",
       "      <th></th>\n",
       "      <th></th>\n",
       "    </tr>\n",
       "  </thead>\n",
       "  <tbody>\n",
       "    <tr>\n",
       "      <th>Movie</th>\n",
       "      <td>20275.0</td>\n",
       "      <td>5.985874</td>\n",
       "      <td>1.345793</td>\n",
       "      <td>1.0</td>\n",
       "      <td>5.2</td>\n",
       "      <td>6.2</td>\n",
       "      <td>7.0</td>\n",
       "      <td>9.4</td>\n",
       "    </tr>\n",
       "    <tr>\n",
       "      <th>Show</th>\n",
       "      <td>4967.0</td>\n",
       "      <td>7.143145</td>\n",
       "      <td>1.141777</td>\n",
       "      <td>1.0</td>\n",
       "      <td>6.6</td>\n",
       "      <td>7.3</td>\n",
       "      <td>7.9</td>\n",
       "      <td>9.7</td>\n",
       "    </tr>\n",
       "  </tbody>\n",
       "</table>\n",
       "</div>"
      ],
      "text/plain": [
       "               count      mean       std  min  25%  50%  75%  max\n",
       "movie_or_tv                                                      \n",
       "Movie        20275.0  5.985874  1.345793  1.0  5.2  6.2  7.0  9.4\n",
       "Show          4967.0  7.143145  1.141777  1.0  6.6  7.3  7.9  9.7"
      ]
     },
     "execution_count": 23,
     "metadata": {},
     "output_type": "execute_result"
    }
   ],
   "source": [
    "df.groupby(\"movie_or_tv\")[\"imdb_score\"].describe()\n",
    "# Let's say movies or TV shows with above the average imdb_score are considered quality.\n",
    "# And, anything above the 75% of the imdb_score is considered high quality."
   ]
  },
  {
   "cell_type": "code",
   "execution_count": 24,
   "metadata": {},
   "outputs": [],
   "source": [
    "# Make the movies and TV shows into two separate dataframes\n",
    "groups = df.groupby(\"movie_or_tv\")\n",
    "df_movie = pd.DataFrame(groups).iloc[0,1]\n",
    "df_tv = pd.DataFrame(groups).iloc[1,1]"
   ]
  },
  {
   "cell_type": "code",
   "execution_count": 25,
   "metadata": {},
   "outputs": [],
   "source": [
    "# Total, High Quality and Quality Movies\n",
    "total_movie = df_movie.groupby(\"web_name\").size()\n",
    "Q_movie = df_movie.loc[df_movie[\"imdb_score\"] >= 6.2,].groupby(\"web_name\").size()\n",
    "HQ_movie = df_movie.loc[df_movie[\"imdb_score\"] >= 7.0,].groupby(\"web_name\").size()\n",
    "\n",
    "# Total, High Quality and Quality TV Shows\n",
    "total_tv = df_tv.groupby(\"web_name\").size()\n",
    "Q_tv = df_tv.loc[df_tv[\"imdb_score\"] >= 7.3,].groupby(\"web_name\").size()\n",
    "HQ_tv = df_tv.loc[df_tv[\"imdb_score\"] >= 7.9,].groupby(\"web_name\").size()"
   ]
  },
  {
   "cell_type": "markdown",
   "metadata": {},
   "source": [
    "### Quality Movies"
   ]
  },
  {
   "cell_type": "code",
   "execution_count": 26,
   "metadata": {},
   "outputs": [
    {
     "data": {
      "text/html": [
       "<div>\n",
       "<style scoped>\n",
       "    .dataframe tbody tr th:only-of-type {\n",
       "        vertical-align: middle;\n",
       "    }\n",
       "\n",
       "    .dataframe tbody tr th {\n",
       "        vertical-align: top;\n",
       "    }\n",
       "\n",
       "    .dataframe thead th {\n",
       "        text-align: right;\n",
       "    }\n",
       "</style>\n",
       "<table border=\"1\" class=\"dataframe\">\n",
       "  <thead>\n",
       "    <tr style=\"text-align: right;\">\n",
       "      <th></th>\n",
       "      <th>web_name</th>\n",
       "      <th>total</th>\n",
       "      <th>quality</th>\n",
       "      <th>high quality</th>\n",
       "    </tr>\n",
       "  </thead>\n",
       "  <tbody>\n",
       "    <tr>\n",
       "      <th>0</th>\n",
       "      <td>Amazon Prime</td>\n",
       "      <td>14067</td>\n",
       "      <td>5912</td>\n",
       "      <td>2847</td>\n",
       "    </tr>\n",
       "    <tr>\n",
       "      <th>1</th>\n",
       "      <td>Disney Plus</td>\n",
       "      <td>637</td>\n",
       "      <td>417</td>\n",
       "      <td>217</td>\n",
       "    </tr>\n",
       "    <tr>\n",
       "      <th>2</th>\n",
       "      <td>HBO Max</td>\n",
       "      <td>1747</td>\n",
       "      <td>1299</td>\n",
       "      <td>850</td>\n",
       "    </tr>\n",
       "    <tr>\n",
       "      <th>3</th>\n",
       "      <td>Hulu</td>\n",
       "      <td>945</td>\n",
       "      <td>499</td>\n",
       "      <td>243</td>\n",
       "    </tr>\n",
       "    <tr>\n",
       "      <th>4</th>\n",
       "      <td>Netflix</td>\n",
       "      <td>3762</td>\n",
       "      <td>2124</td>\n",
       "      <td>1068</td>\n",
       "    </tr>\n",
       "  </tbody>\n",
       "</table>\n",
       "</div>"
      ],
      "text/plain": [
       "       web_name  total  quality  high quality\n",
       "0  Amazon Prime  14067     5912          2847\n",
       "1   Disney Plus    637      417           217\n",
       "2       HBO Max   1747     1299           850\n",
       "3          Hulu    945      499           243\n",
       "4       Netflix   3762     2124          1068"
      ]
     },
     "execution_count": 26,
     "metadata": {},
     "output_type": "execute_result"
    }
   ],
   "source": [
    "movies = pd.concat([total_movie, Q_movie, HQ_movie], axis = 1,\\\n",
    "                   keys= [\"total\",\"quality\",\"high quality\"]).reset_index()\n",
    "movies"
   ]
  },
  {
   "cell_type": "code",
   "execution_count": 28,
   "metadata": {},
   "outputs": [
    {
     "data": {
      "text/plain": [
       "<matplotlib.legend.Legend at 0x7fc510de6f10>"
      ]
     },
     "execution_count": 28,
     "metadata": {},
     "output_type": "execute_result"
    },
    {
     "data": {
      "image/png": "[encoded data removed]",
      "text/plain": [
       "<Figure size 864x432 with 1 Axes>"
      ]
     },
     "metadata": {},
     "output_type": "display_data"
    }
   ],
   "source": [
    "from matplotlib.patches import Patch\n",
    "sns.barplot(data = movies, x = \"web_name\", y = \"total\", color = \"navy\")\n",
    "sns.barplot(data = movies, x = \"web_name\", y = \"quality\", color = \"blue\")\n",
    "sns.barplot(data = movies, x = \"web_name\", y = \"high quality\", color = \"skyblue\")\n",
    "plt.title(\"Count of total, quality, and high quality movies\")\n",
    "plt.xlabel(\"Streaming Service\")\n",
    "plt.ylabel(\"Count\")\n",
    "legend_elements = [Patch(facecolor = \"navy\", label = \"Total Movies\"),\\\n",
    "                  Patch(facecolor = \"blue\", label = \"Quality Movies\"),\\\n",
    "                  Patch(facecolor = \"skyblue\", label = \"High Quality Movies\")]\n",
    "plt.legend(handles = legend_elements, fontsize= 12, bbox_to_anchor=(1.25,0.6))"
   ]
  },
  {
   "cell_type": "code",
   "execution_count": 29,
   "metadata": {},
   "outputs": [
    {
     "data": {
      "text/html": [
       "<div>\n",
       "<style scoped>\n",
       "    .dataframe tbody tr th:only-of-type {\n",
       "        vertical-align: middle;\n",
       "    }\n",
       "\n",
       "    .dataframe tbody tr th {\n",
       "        vertical-align: top;\n",
       "    }\n",
       "\n",
       "    .dataframe thead th {\n",
       "        text-align: right;\n",
       "    }\n",
       "</style>\n",
       "<table border=\"1\" class=\"dataframe\">\n",
       "  <thead>\n",
       "    <tr style=\"text-align: right;\">\n",
       "      <th></th>\n",
       "      <th>web_name</th>\n",
       "      <th>total</th>\n",
       "      <th>quality</th>\n",
       "      <th>high quality</th>\n",
       "    </tr>\n",
       "  </thead>\n",
       "  <tbody>\n",
       "    <tr>\n",
       "      <th>0</th>\n",
       "      <td>Amazon Prime</td>\n",
       "      <td>2136</td>\n",
       "      <td>712</td>\n",
       "      <td>380</td>\n",
       "    </tr>\n",
       "    <tr>\n",
       "      <th>1</th>\n",
       "      <td>Disney Plus</td>\n",
       "      <td>203</td>\n",
       "      <td>78</td>\n",
       "      <td>51</td>\n",
       "    </tr>\n",
       "    <tr>\n",
       "      <th>2</th>\n",
       "      <td>HBO Max</td>\n",
       "      <td>368</td>\n",
       "      <td>236</td>\n",
       "      <td>157</td>\n",
       "    </tr>\n",
       "    <tr>\n",
       "      <th>3</th>\n",
       "      <td>Hulu</td>\n",
       "      <td>1713</td>\n",
       "      <td>767</td>\n",
       "      <td>385</td>\n",
       "    </tr>\n",
       "    <tr>\n",
       "      <th>4</th>\n",
       "      <td>Netflix</td>\n",
       "      <td>1727</td>\n",
       "      <td>880</td>\n",
       "      <td>467</td>\n",
       "    </tr>\n",
       "  </tbody>\n",
       "</table>\n",
       "</div>"
      ],
      "text/plain": [
       "       web_name  total  quality  high quality\n",
       "0  Amazon Prime   2136      712           380\n",
       "1   Disney Plus    203       78            51\n",
       "2       HBO Max    368      236           157\n",
       "3          Hulu   1713      767           385\n",
       "4       Netflix   1727      880           467"
      ]
     },
     "execution_count": 29,
     "metadata": {},
     "output_type": "execute_result"
    }
   ],
   "source": [
    "tvshows = pd.concat([total_tv, Q_tv, HQ_tv], axis = 1,\\\n",
    "                    keys= [\"total\",\"quality\",\"high quality\"]).reset_index()\n",
    "tvshows"
   ]
  },
  {
   "cell_type": "code",
   "execution_count": 30,
   "metadata": {},
   "outputs": [
    {
     "data": {
      "text/plain": [
       "<matplotlib.legend.Legend at 0x7fc530d33ad0>"
      ]
     },
     "execution_count": 30,
     "metadata": {},
     "output_type": "execute_result"
    },
    {
     "data": {
      "image/png": "[encoded data removed]",
      "text/plain": [
       "<Figure size 864x432 with 1 Axes>"
      ]
     },
     "metadata": {},
     "output_type": "display_data"
    }
   ],
   "source": [
    "sns.barplot(data = tvshows, x = \"web_name\", y = \"total\", color = \"purple\")\n",
    "sns.barplot(data = tvshows, x = \"web_name\", y = \"quality\", color = \"red\")\n",
    "sns.barplot(data = tvshows, x = \"web_name\", y = \"high quality\", color = \"pink\")\n",
    "plt.title(\"Count of total, quality, high quality TV shows\")\n",
    "plt.xlabel(\"Streaming Service\")\n",
    "plt.ylabel(\"Count\")\n",
    "legend_elements = [Patch(facecolor = \"purple\", label = \"Total TV Shows\"),\\\n",
    "                  Patch(facecolor = \"red\", label = \"Quality TV Shows\"),\\\n",
    "                  Patch(facecolor = \"pink\", label = \"High Quality TV Shows\")]\n",
    "plt.legend(handles = legend_elements, fontsize= 12, bbox_to_anchor=(1,0.5))"
   ]
  },
  {
   "cell_type": "code",
   "execution_count": null,
   "metadata": {},
   "outputs": [],
   "source": []
  },
  {
   "cell_type": "code",
   "execution_count": null,
   "metadata": {},
   "outputs": [],
   "source": []
  }
 ],
 "metadata": {
  "kernelspec": {
   "display_name": "Python 3",
   "language": "python",
   "name": "python3"
  },
  "language_info": {
   "codemirror_mode": {
    "name": "ipython",
    "version": 3
   },
   "file_extension": ".py",
   "mimetype": "text/x-python",
   "name": "python",
   "nbconvert_exporter": "python",
   "pygments_lexer": "ipython3",
   "version": "3.7.6"
  },
  "toc": {
   "base_numbering": 1,
   "nav_menu": {},
   "number_sections": false,
   "sideBar": true,
   "skip_h1_title": false,
   "title_cell": "Table of Contents",
   "title_sidebar": "Contents",
   "toc_cell": false,
   "toc_position": {},
   "toc_section_display": true,
   "toc_window_display": false
  },
  "varInspector": {
   "cols": {
    "lenName": 16,
    "lenType": 16,
    "lenVar": 40
   },
   "kernels_config": {
    "python": {
     "delete_cmd_postfix": "",
     "delete_cmd_prefix": "del ",
     "library": "var_list.py",
     "varRefreshCmd": "print(var_dic_list())"
    },
    "r": {
     "delete_cmd_postfix": ") ",
     "delete_cmd_prefix": "rm(",
     "library": "var_list.r",
     "varRefreshCmd": "cat(var_dic_list()) "
    }
   },
   "types_to_exclude": [
    "module",
    "function",
    "builtin_function_or_method",
    "instance",
    "_Feature"
   ],
   "window_display": false
  }
 },
 "nbformat": 4,
 "nbformat_minor": 4
}
