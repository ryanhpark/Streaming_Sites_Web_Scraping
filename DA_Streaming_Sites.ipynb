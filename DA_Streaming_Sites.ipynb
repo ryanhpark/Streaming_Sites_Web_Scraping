{
 "cells": [
  {
   "cell_type": "markdown",
   "metadata": {},
   "source": [
    "## Preprocessing"
   ]
  },
  {
   "cell_type": "markdown",
   "metadata": {},
   "source": [
    "### Read the Dataset and Reorder the Columns"
   ]
  },
  {
   "cell_type": "code",
   "execution_count": 156,
   "metadata": {},
   "outputs": [],
   "source": [
    "import pandas as pd\n",
    "data = pd.read_csv(\"./streamingsites/streamingsites2.csv\")"
   ]
  },
  {
   "cell_type": "code",
   "execution_count": 157,
   "metadata": {},
   "outputs": [],
   "source": [
    "col_order = [\"web_name\",\"movie_or_tv\", \"title\", \"year_start\", \"year_end\",\\\n",
    "             \"seasons\", \"imdb_score\", \"rg_score\", \"rated\", \"genres\"]\n",
    "data = data[col_order]"
   ]
  },
  {
   "cell_type": "code",
   "execution_count": 181,
   "metadata": {},
   "outputs": [
    {
     "name": "stdout",
     "output_type": "stream",
     "text": [
      "(27305, 10)\n"
     ]
    },
    {
     "data": {
      "text/html": [
       "<div>\n",
       "<style scoped>\n",
       "    .dataframe tbody tr th:only-of-type {\n",
       "        vertical-align: middle;\n",
       "    }\n",
       "\n",
       "    .dataframe tbody tr th {\n",
       "        vertical-align: top;\n",
       "    }\n",
       "\n",
       "    .dataframe thead th {\n",
       "        text-align: right;\n",
       "    }\n",
       "</style>\n",
       "<table border=\"1\" class=\"dataframe\">\n",
       "  <thead>\n",
       "    <tr style=\"text-align: right;\">\n",
       "      <th></th>\n",
       "      <th>web_name</th>\n",
       "      <th>movie_or_tv</th>\n",
       "      <th>title</th>\n",
       "      <th>year_start</th>\n",
       "      <th>year_end</th>\n",
       "      <th>seasons</th>\n",
       "      <th>imdb_score</th>\n",
       "      <th>rg_score</th>\n",
       "      <th>rated</th>\n",
       "      <th>genres</th>\n",
       "    </tr>\n",
       "  </thead>\n",
       "  <tbody>\n",
       "    <tr>\n",
       "      <th>0</th>\n",
       "      <td>Netflix</td>\n",
       "      <td>Show</td>\n",
       "      <td>Trollhunters: Tales of Arcadia</td>\n",
       "      <td>2016</td>\n",
       "      <td>2018.0</td>\n",
       "      <td>3.0</td>\n",
       "      <td>8.4</td>\n",
       "      <td>68.0</td>\n",
       "      <td>7+ (TV-PG)</td>\n",
       "      <td>[Animation, Action &amp; adventure, Comedy, Drama,...</td>\n",
       "    </tr>\n",
       "    <tr>\n",
       "      <th>1</th>\n",
       "      <td>Netflix</td>\n",
       "      <td>Movie</td>\n",
       "      <td>The Other Side of the Wind</td>\n",
       "      <td>2018</td>\n",
       "      <td>NaN</td>\n",
       "      <td>NaN</td>\n",
       "      <td>6.8</td>\n",
       "      <td>68.0</td>\n",
       "      <td>18+ (R)</td>\n",
       "      <td>[Comedy, Independent, Drama]</td>\n",
       "    </tr>\n",
       "    <tr>\n",
       "      <th>2</th>\n",
       "      <td>Netflix</td>\n",
       "      <td>Show</td>\n",
       "      <td>Patriot Act with Hasan Minhaj</td>\n",
       "      <td>2018</td>\n",
       "      <td>2020.0</td>\n",
       "      <td>6.0</td>\n",
       "      <td>8.2</td>\n",
       "      <td>69.0</td>\n",
       "      <td>18+ (TV-MA)</td>\n",
       "      <td>[Comedy]</td>\n",
       "    </tr>\n",
       "    <tr>\n",
       "      <th>3</th>\n",
       "      <td>Netflix</td>\n",
       "      <td>Show</td>\n",
       "      <td>Formula 1: Drive to Survive</td>\n",
       "      <td>2019</td>\n",
       "      <td>2020.0</td>\n",
       "      <td>2.0</td>\n",
       "      <td>8.6</td>\n",
       "      <td>69.0</td>\n",
       "      <td>14+ (TV-14)</td>\n",
       "      <td>[Documentary, Sport]</td>\n",
       "    </tr>\n",
       "    <tr>\n",
       "      <th>4</th>\n",
       "      <td>Netflix</td>\n",
       "      <td>Movie</td>\n",
       "      <td>Tamasha</td>\n",
       "      <td>2015</td>\n",
       "      <td>NaN</td>\n",
       "      <td>NaN</td>\n",
       "      <td>7.3</td>\n",
       "      <td>70.0</td>\n",
       "      <td>7+ (PG)</td>\n",
       "      <td>[Comedy, Drama, Romance]</td>\n",
       "    </tr>\n",
       "  </tbody>\n",
       "</table>\n",
       "</div>"
      ],
      "text/plain": [
       "  web_name movie_or_tv                           title  year_start  year_end  \\\n",
       "0  Netflix        Show  Trollhunters: Tales of Arcadia        2016    2018.0   \n",
       "1  Netflix       Movie      The Other Side of the Wind        2018       NaN   \n",
       "2  Netflix        Show   Patriot Act with Hasan Minhaj        2018    2020.0   \n",
       "3  Netflix        Show     Formula 1: Drive to Survive        2019    2020.0   \n",
       "4  Netflix       Movie                         Tamasha        2015       NaN   \n",
       "\n",
       "   seasons  imdb_score  rg_score        rated  \\\n",
       "0      3.0         8.4      68.0   7+ (TV-PG)   \n",
       "1      NaN         6.8      68.0      18+ (R)   \n",
       "2      6.0         8.2      69.0  18+ (TV-MA)   \n",
       "3      2.0         8.6      69.0  14+ (TV-14)   \n",
       "4      NaN         7.3      70.0      7+ (PG)   \n",
       "\n",
       "                                              genres  \n",
       "0  [Animation, Action & adventure, Comedy, Drama,...  \n",
       "1                       [Comedy, Independent, Drama]  \n",
       "2                                           [Comedy]  \n",
       "3                               [Documentary, Sport]  \n",
       "4                           [Comedy, Drama, Romance]  "
      ]
     },
     "execution_count": 181,
     "metadata": {},
     "output_type": "execute_result"
    }
   ],
   "source": [
    "print(data.shape)\n",
    "data.head()"
   ]
  },
  {
   "cell_type": "markdown",
   "metadata": {},
   "source": [
    "### Changing the data types"
   ]
  },
  {
   "cell_type": "code",
   "execution_count": 159,
   "metadata": {},
   "outputs": [
    {
     "name": "stdout",
     "output_type": "stream",
     "text": [
      "<class 'pandas.core.frame.DataFrame'>\n",
      "RangeIndex: 27305 entries, 0 to 27304\n",
      "Data columns (total 10 columns):\n",
      " #   Column       Non-Null Count  Dtype  \n",
      "---  ------       --------------  -----  \n",
      " 0   web_name     27305 non-null  object \n",
      " 1   movie_or_tv  27305 non-null  object \n",
      " 2   title        27305 non-null  object \n",
      " 3   year_start   27305 non-null  int64  \n",
      " 4   year_end     6147 non-null   float64\n",
      " 5   seasons      6147 non-null   float64\n",
      " 6   imdb_score   25242 non-null  float64\n",
      " 7   rg_score     26708 non-null  float64\n",
      " 8   rated        13156 non-null  object \n",
      " 9   genres       25495 non-null  object \n",
      "dtypes: float64(4), int64(1), object(5)\n",
      "memory usage: 2.1+ MB\n"
     ]
    }
   ],
   "source": [
    "data.info()"
   ]
  },
  {
   "cell_type": "code",
   "execution_count": 160,
   "metadata": {},
   "outputs": [],
   "source": [
    "data.loc[data['year_end'].notnull(), 'year_end'] = data.loc[data['year_end'].notnull(), 'year_end'].apply('int64')\n",
    "data.loc[data['seasons'].notnull(), 'seasons'] = data.loc[data['seasons'].notnull(), 'seasons'].apply('int64')\n",
    "data.loc[data['rg_score'].notnull(), 'rg_score'] = data.loc[data['rg_score'].notnull(), 'rg_score'].apply('int64')"
   ]
  },
  {
   "cell_type": "markdown",
   "metadata": {},
   "source": [
    "### Rename the unique genres and change from string to list"
   ]
  },
  {
   "cell_type": "code",
   "execution_count": 161,
   "metadata": {},
   "outputs": [
    {
     "data": {
      "text/plain": [
       "['action & adventure',\n",
       " 'action-and-adventure',\n",
       " 'animation',\n",
       " 'anime',\n",
       " 'biography',\n",
       " 'children',\n",
       " 'comedy',\n",
       " 'crime',\n",
       " 'cult',\n",
       " 'documentary',\n",
       " 'drama',\n",
       " 'family',\n",
       " 'fantasy',\n",
       " 'food',\n",
       " 'game show',\n",
       " 'game-show',\n",
       " 'history',\n",
       " 'home & garden',\n",
       " 'home-and-garden',\n",
       " 'horror',\n",
       " 'independent',\n",
       " 'lgbtq',\n",
       " 'musical',\n",
       " 'mystery',\n",
       " 'nan',\n",
       " 'reality',\n",
       " 'romance',\n",
       " 'science-fiction',\n",
       " 'sport',\n",
       " 'stand-up & talk',\n",
       " 'stand-up-and-talk',\n",
       " 'thriller',\n",
       " 'travel']"
      ]
     },
     "execution_count": 161,
     "metadata": {},
     "output_type": "execute_result"
    }
   ],
   "source": [
    "data['genres'] = data['genres'].astype(str)\n",
    "genres = list(map(lambda x: x.split(','), data['genres'].tolist()))\n",
    "unique_genres = list(set([genre for row in genres for genre in row]))\n",
    "sorted(unique_genres)"
   ]
  },
  {
   "cell_type": "code",
   "execution_count": 164,
   "metadata": {},
   "outputs": [],
   "source": [
    "data['genres'] = data['genres'].str.replace('action-and-adventure','action & adventure')\n",
    "data['genres'] = data['genres'].str.replace('game-show','game show')\n",
    "data['genres'] = data['genres'].str.replace('home-and-garden','home & garden')\n",
    "data['genres'] = data['genres'].str.replace('stand-up-and-talk','stand-up & talk')\n",
    "data['genres'] = data['genres'].str.replace('nan','NaN')"
   ]
  },
  {
   "cell_type": "code",
   "execution_count": 166,
   "metadata": {},
   "outputs": [],
   "source": [
    "# Changing the column of genres from string to lists\n",
    "data['genres'] = data['genres'].apply(lambda x: x.split(','))"
   ]
  },
  {
   "cell_type": "markdown",
   "metadata": {},
   "source": [
    "### Capitalizing the texts"
   ]
  },
  {
   "cell_type": "code",
   "execution_count": 169,
   "metadata": {},
   "outputs": [],
   "source": [
    "data['web_name'] = list(map(lambda x: x.capitalize(),data['web_name']))\n",
    "data['movie_or_tv'] = list(map(lambda x: x.capitalize(),data['movie_or_tv']))\n",
    "data['genres'] = list(map(lambda rows: list(map(lambda x: x.capitalize(), rows)), data['genres']))"
   ]
  },
  {
   "cell_type": "code",
   "execution_count": 172,
   "metadata": {},
   "outputs": [
    {
     "data": {
      "text/html": [
       "<div>\n",
       "<style scoped>\n",
       "    .dataframe tbody tr th:only-of-type {\n",
       "        vertical-align: middle;\n",
       "    }\n",
       "\n",
       "    .dataframe tbody tr th {\n",
       "        vertical-align: top;\n",
       "    }\n",
       "\n",
       "    .dataframe thead th {\n",
       "        text-align: right;\n",
       "    }\n",
       "</style>\n",
       "<table border=\"1\" class=\"dataframe\">\n",
       "  <thead>\n",
       "    <tr style=\"text-align: right;\">\n",
       "      <th></th>\n",
       "      <th>web_name</th>\n",
       "      <th>movie_or_tv</th>\n",
       "      <th>title</th>\n",
       "      <th>year_start</th>\n",
       "      <th>year_end</th>\n",
       "      <th>seasons</th>\n",
       "      <th>imdb_score</th>\n",
       "      <th>rg_score</th>\n",
       "      <th>rated</th>\n",
       "      <th>genres</th>\n",
       "    </tr>\n",
       "  </thead>\n",
       "  <tbody>\n",
       "    <tr>\n",
       "      <th>0</th>\n",
       "      <td>Netflix</td>\n",
       "      <td>Show</td>\n",
       "      <td>Trollhunters: Tales of Arcadia</td>\n",
       "      <td>2016</td>\n",
       "      <td>2018.0</td>\n",
       "      <td>3.0</td>\n",
       "      <td>8.4</td>\n",
       "      <td>68.0</td>\n",
       "      <td>7+ (TV-PG)</td>\n",
       "      <td>[Animation, Action &amp; adventure, Comedy, Drama,...</td>\n",
       "    </tr>\n",
       "    <tr>\n",
       "      <th>1</th>\n",
       "      <td>Netflix</td>\n",
       "      <td>Movie</td>\n",
       "      <td>The Other Side of the Wind</td>\n",
       "      <td>2018</td>\n",
       "      <td>NaN</td>\n",
       "      <td>NaN</td>\n",
       "      <td>6.8</td>\n",
       "      <td>68.0</td>\n",
       "      <td>18+ (R)</td>\n",
       "      <td>[Comedy, Independent, Drama]</td>\n",
       "    </tr>\n",
       "    <tr>\n",
       "      <th>2</th>\n",
       "      <td>Netflix</td>\n",
       "      <td>Show</td>\n",
       "      <td>Patriot Act with Hasan Minhaj</td>\n",
       "      <td>2018</td>\n",
       "      <td>2020.0</td>\n",
       "      <td>6.0</td>\n",
       "      <td>8.2</td>\n",
       "      <td>69.0</td>\n",
       "      <td>18+ (TV-MA)</td>\n",
       "      <td>[Comedy]</td>\n",
       "    </tr>\n",
       "    <tr>\n",
       "      <th>3</th>\n",
       "      <td>Netflix</td>\n",
       "      <td>Show</td>\n",
       "      <td>Formula 1: Drive to Survive</td>\n",
       "      <td>2019</td>\n",
       "      <td>2020.0</td>\n",
       "      <td>2.0</td>\n",
       "      <td>8.6</td>\n",
       "      <td>69.0</td>\n",
       "      <td>14+ (TV-14)</td>\n",
       "      <td>[Documentary, Sport]</td>\n",
       "    </tr>\n",
       "    <tr>\n",
       "      <th>4</th>\n",
       "      <td>Netflix</td>\n",
       "      <td>Movie</td>\n",
       "      <td>Tamasha</td>\n",
       "      <td>2015</td>\n",
       "      <td>NaN</td>\n",
       "      <td>NaN</td>\n",
       "      <td>7.3</td>\n",
       "      <td>70.0</td>\n",
       "      <td>7+ (PG)</td>\n",
       "      <td>[Comedy, Drama, Romance]</td>\n",
       "    </tr>\n",
       "  </tbody>\n",
       "</table>\n",
       "</div>"
      ],
      "text/plain": [
       "  web_name movie_or_tv                           title  year_start  year_end  \\\n",
       "0  Netflix        Show  Trollhunters: Tales of Arcadia        2016    2018.0   \n",
       "1  Netflix       Movie      The Other Side of the Wind        2018       NaN   \n",
       "2  Netflix        Show   Patriot Act with Hasan Minhaj        2018    2020.0   \n",
       "3  Netflix        Show     Formula 1: Drive to Survive        2019    2020.0   \n",
       "4  Netflix       Movie                         Tamasha        2015       NaN   \n",
       "\n",
       "   seasons  imdb_score  rg_score        rated  \\\n",
       "0      3.0         8.4      68.0   7+ (TV-PG)   \n",
       "1      NaN         6.8      68.0      18+ (R)   \n",
       "2      6.0         8.2      69.0  18+ (TV-MA)   \n",
       "3      2.0         8.6      69.0  14+ (TV-14)   \n",
       "4      NaN         7.3      70.0      7+ (PG)   \n",
       "\n",
       "                                              genres  \n",
       "0  [Animation, Action & adventure, Comedy, Drama,...  \n",
       "1                       [Comedy, Independent, Drama]  \n",
       "2                                           [Comedy]  \n",
       "3                               [Documentary, Sport]  \n",
       "4                           [Comedy, Drama, Romance]  "
      ]
     },
     "execution_count": 172,
     "metadata": {},
     "output_type": "execute_result"
    }
   ],
   "source": [
    "data.head()"
   ]
  },
  {
   "cell_type": "code",
   "execution_count": 173,
   "metadata": {},
   "outputs": [],
   "source": [
    "# data.to_csv(\"preprocesseddata.csv\")"
   ]
  },
  {
   "cell_type": "markdown",
   "metadata": {},
   "source": [
    "## EDA"
   ]
  },
  {
   "cell_type": "code",
   "execution_count": 182,
   "metadata": {},
   "outputs": [],
   "source": [
    "from matplotlib import pyplot as plt\n",
    "import seaborn as sns\n",
    "%matplotlib inline\n",
    "plt.rcParams['figure.figsize'] = (10, 6)"
   ]
  },
  {
   "cell_type": "code",
   "execution_count": 178,
   "metadata": {},
   "outputs": [],
   "source": [
    "df = pd.read_csv(\"preprocesseddata.csv\", index_col = 0)"
   ]
  },
  {
   "cell_type": "code",
   "execution_count": 179,
   "metadata": {},
   "outputs": [
    {
     "data": {
      "text/html": [
       "<div>\n",
       "<style scoped>\n",
       "    .dataframe tbody tr th:only-of-type {\n",
       "        vertical-align: middle;\n",
       "    }\n",
       "\n",
       "    .dataframe tbody tr th {\n",
       "        vertical-align: top;\n",
       "    }\n",
       "\n",
       "    .dataframe thead th {\n",
       "        text-align: right;\n",
       "    }\n",
       "</style>\n",
       "<table border=\"1\" class=\"dataframe\">\n",
       "  <thead>\n",
       "    <tr style=\"text-align: right;\">\n",
       "      <th></th>\n",
       "      <th>web_name</th>\n",
       "      <th>movie_or_tv</th>\n",
       "      <th>title</th>\n",
       "      <th>year_start</th>\n",
       "      <th>year_end</th>\n",
       "      <th>seasons</th>\n",
       "      <th>imdb_score</th>\n",
       "      <th>rg_score</th>\n",
       "      <th>rated</th>\n",
       "      <th>genres</th>\n",
       "    </tr>\n",
       "  </thead>\n",
       "  <tbody>\n",
       "    <tr>\n",
       "      <th>0</th>\n",
       "      <td>Netflix</td>\n",
       "      <td>Show</td>\n",
       "      <td>Trollhunters: Tales of Arcadia</td>\n",
       "      <td>2016</td>\n",
       "      <td>2018.0</td>\n",
       "      <td>3.0</td>\n",
       "      <td>8.4</td>\n",
       "      <td>68.0</td>\n",
       "      <td>7+ (TV-PG)</td>\n",
       "      <td>['Animation', 'Action &amp; adventure', 'Comedy', ...</td>\n",
       "    </tr>\n",
       "    <tr>\n",
       "      <th>1</th>\n",
       "      <td>Netflix</td>\n",
       "      <td>Movie</td>\n",
       "      <td>The Other Side of the Wind</td>\n",
       "      <td>2018</td>\n",
       "      <td>NaN</td>\n",
       "      <td>NaN</td>\n",
       "      <td>6.8</td>\n",
       "      <td>68.0</td>\n",
       "      <td>18+ (R)</td>\n",
       "      <td>['Comedy', 'Independent', 'Drama']</td>\n",
       "    </tr>\n",
       "    <tr>\n",
       "      <th>2</th>\n",
       "      <td>Netflix</td>\n",
       "      <td>Show</td>\n",
       "      <td>Patriot Act with Hasan Minhaj</td>\n",
       "      <td>2018</td>\n",
       "      <td>2020.0</td>\n",
       "      <td>6.0</td>\n",
       "      <td>8.2</td>\n",
       "      <td>69.0</td>\n",
       "      <td>18+ (TV-MA)</td>\n",
       "      <td>['Comedy']</td>\n",
       "    </tr>\n",
       "    <tr>\n",
       "      <th>3</th>\n",
       "      <td>Netflix</td>\n",
       "      <td>Show</td>\n",
       "      <td>Formula 1: Drive to Survive</td>\n",
       "      <td>2019</td>\n",
       "      <td>2020.0</td>\n",
       "      <td>2.0</td>\n",
       "      <td>8.6</td>\n",
       "      <td>69.0</td>\n",
       "      <td>14+ (TV-14)</td>\n",
       "      <td>['Documentary', 'Sport']</td>\n",
       "    </tr>\n",
       "    <tr>\n",
       "      <th>4</th>\n",
       "      <td>Netflix</td>\n",
       "      <td>Movie</td>\n",
       "      <td>Tamasha</td>\n",
       "      <td>2015</td>\n",
       "      <td>NaN</td>\n",
       "      <td>NaN</td>\n",
       "      <td>7.3</td>\n",
       "      <td>70.0</td>\n",
       "      <td>7+ (PG)</td>\n",
       "      <td>['Comedy', 'Drama', 'Romance']</td>\n",
       "    </tr>\n",
       "  </tbody>\n",
       "</table>\n",
       "</div>"
      ],
      "text/plain": [
       "  web_name movie_or_tv                           title  year_start  year_end  \\\n",
       "0  Netflix        Show  Trollhunters: Tales of Arcadia        2016    2018.0   \n",
       "1  Netflix       Movie      The Other Side of the Wind        2018       NaN   \n",
       "2  Netflix        Show   Patriot Act with Hasan Minhaj        2018    2020.0   \n",
       "3  Netflix        Show     Formula 1: Drive to Survive        2019    2020.0   \n",
       "4  Netflix       Movie                         Tamasha        2015       NaN   \n",
       "\n",
       "   seasons  imdb_score  rg_score        rated  \\\n",
       "0      3.0         8.4      68.0   7+ (TV-PG)   \n",
       "1      NaN         6.8      68.0      18+ (R)   \n",
       "2      6.0         8.2      69.0  18+ (TV-MA)   \n",
       "3      2.0         8.6      69.0  14+ (TV-14)   \n",
       "4      NaN         7.3      70.0      7+ (PG)   \n",
       "\n",
       "                                              genres  \n",
       "0  ['Animation', 'Action & adventure', 'Comedy', ...  \n",
       "1                 ['Comedy', 'Independent', 'Drama']  \n",
       "2                                         ['Comedy']  \n",
       "3                           ['Documentary', 'Sport']  \n",
       "4                     ['Comedy', 'Drama', 'Romance']  "
      ]
     },
     "execution_count": 179,
     "metadata": {},
     "output_type": "execute_result"
    }
   ],
   "source": [
    "df.head()"
   ]
  },
  {
   "cell_type": "code",
   "execution_count": 186,
   "metadata": {},
   "outputs": [
    {
     "data": {
      "text/html": [
       "<div>\n",
       "<style scoped>\n",
       "    .dataframe tbody tr th:only-of-type {\n",
       "        vertical-align: middle;\n",
       "    }\n",
       "\n",
       "    .dataframe tbody tr th {\n",
       "        vertical-align: top;\n",
       "    }\n",
       "\n",
       "    .dataframe thead th {\n",
       "        text-align: right;\n",
       "    }\n",
       "</style>\n",
       "<table border=\"1\" class=\"dataframe\">\n",
       "  <thead>\n",
       "    <tr style=\"text-align: right;\">\n",
       "      <th></th>\n",
       "      <th>year_start</th>\n",
       "      <th>year_end</th>\n",
       "      <th>seasons</th>\n",
       "      <th>imdb_score</th>\n",
       "      <th>rg_score</th>\n",
       "    </tr>\n",
       "  </thead>\n",
       "  <tbody>\n",
       "    <tr>\n",
       "      <th>count</th>\n",
       "      <td>27305.000000</td>\n",
       "      <td>6147.000000</td>\n",
       "      <td>6147.000000</td>\n",
       "      <td>25242.000000</td>\n",
       "      <td>26708.000000</td>\n",
       "    </tr>\n",
       "    <tr>\n",
       "      <th>mean</th>\n",
       "      <td>2004.969529</td>\n",
       "      <td>2015.633968</td>\n",
       "      <td>3.257199</td>\n",
       "      <td>6.213596</td>\n",
       "      <td>47.600607</td>\n",
       "    </tr>\n",
       "    <tr>\n",
       "      <th>std</th>\n",
       "      <td>19.211070</td>\n",
       "      <td>9.274482</td>\n",
       "      <td>5.609403</td>\n",
       "      <td>1.386696</td>\n",
       "      <td>17.197285</td>\n",
       "    </tr>\n",
       "    <tr>\n",
       "      <th>min</th>\n",
       "      <td>1901.000000</td>\n",
       "      <td>1939.000000</td>\n",
       "      <td>1.000000</td>\n",
       "      <td>1.000000</td>\n",
       "      <td>10.000000</td>\n",
       "    </tr>\n",
       "    <tr>\n",
       "      <th>25%</th>\n",
       "      <td>2003.000000</td>\n",
       "      <td>2015.000000</td>\n",
       "      <td>1.000000</td>\n",
       "      <td>5.400000</td>\n",
       "      <td>35.000000</td>\n",
       "    </tr>\n",
       "    <tr>\n",
       "      <th>50%</th>\n",
       "      <td>2013.000000</td>\n",
       "      <td>2020.000000</td>\n",
       "      <td>2.000000</td>\n",
       "      <td>6.400000</td>\n",
       "      <td>45.000000</td>\n",
       "    </tr>\n",
       "    <tr>\n",
       "      <th>75%</th>\n",
       "      <td>2017.000000</td>\n",
       "      <td>2020.000000</td>\n",
       "      <td>4.000000</td>\n",
       "      <td>7.200000</td>\n",
       "      <td>60.000000</td>\n",
       "    </tr>\n",
       "    <tr>\n",
       "      <th>max</th>\n",
       "      <td>2020.000000</td>\n",
       "      <td>2020.000000</td>\n",
       "      <td>184.000000</td>\n",
       "      <td>9.700000</td>\n",
       "      <td>100.000000</td>\n",
       "    </tr>\n",
       "  </tbody>\n",
       "</table>\n",
       "</div>"
      ],
      "text/plain": [
       "         year_start     year_end      seasons    imdb_score      rg_score\n",
       "count  27305.000000  6147.000000  6147.000000  25242.000000  26708.000000\n",
       "mean    2004.969529  2015.633968     3.257199      6.213596     47.600607\n",
       "std       19.211070     9.274482     5.609403      1.386696     17.197285\n",
       "min     1901.000000  1939.000000     1.000000      1.000000     10.000000\n",
       "25%     2003.000000  2015.000000     1.000000      5.400000     35.000000\n",
       "50%     2013.000000  2020.000000     2.000000      6.400000     45.000000\n",
       "75%     2017.000000  2020.000000     4.000000      7.200000     60.000000\n",
       "max     2020.000000  2020.000000   184.000000      9.700000    100.000000"
      ]
     },
     "execution_count": 186,
     "metadata": {},
     "output_type": "execute_result"
    }
   ],
   "source": [
    "df.describe()"
   ]
  },
  {
   "cell_type": "code",
   "execution_count": null,
   "metadata": {},
   "outputs": [],
   "source": []
  }
 ],
 "metadata": {
  "kernelspec": {
   "display_name": "Python 3",
   "language": "python",
   "name": "python3"
  },
  "language_info": {
   "codemirror_mode": {
    "name": "ipython",
    "version": 3
   },
   "file_extension": ".py",
   "mimetype": "text/x-python",
   "name": "python",
   "nbconvert_exporter": "python",
   "pygments_lexer": "ipython3",
   "version": "3.7.6"
  },
  "toc": {
   "base_numbering": 1,
   "nav_menu": {},
   "number_sections": true,
   "sideBar": true,
   "skip_h1_title": false,
   "title_cell": "Table of Contents",
   "title_sidebar": "Contents",
   "toc_cell": false,
   "toc_position": {},
   "toc_section_display": true,
   "toc_window_display": false
  },
  "varInspector": {
   "cols": {
    "lenName": 16,
    "lenType": 16,
    "lenVar": 40
   },
   "kernels_config": {
    "python": {
     "delete_cmd_postfix": "",
     "delete_cmd_prefix": "del ",
     "library": "var_list.py",
     "varRefreshCmd": "print(var_dic_list())"
    },
    "r": {
     "delete_cmd_postfix": ") ",
     "delete_cmd_prefix": "rm(",
     "library": "var_list.r",
     "varRefreshCmd": "cat(var_dic_list()) "
    }
   },
   "types_to_exclude": [
    "module",
    "function",
    "builtin_function_or_method",
    "instance",
    "_Feature"
   ],
   "window_display": false
  }
 },
 "nbformat": 4,
 "nbformat_minor": 4
}
